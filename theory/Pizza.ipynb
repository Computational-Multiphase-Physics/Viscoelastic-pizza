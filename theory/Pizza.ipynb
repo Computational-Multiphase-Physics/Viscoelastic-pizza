{
 "cells": [
  {
   "cell_type": "code",
   "execution_count": 1,
   "id": "032855b5-86af-4b55-b49c-8658ac10a0db",
   "metadata": {},
   "outputs": [
    {
     "name": "stderr",
     "output_type": "stream",
     "text": [
      "/Library/Frameworks/Python.framework/Versions/3.10/lib/python3.10/site-packages/scipy/__init__.py:146: UserWarning: A NumPy version >=1.16.5 and <1.23.0 is required for this version of SciPy (detected version 1.26.2\n",
      "  warnings.warn(f\"A NumPy version >={np_minversion} and <{np_maxversion}\"\n"
     ]
    }
   ],
   "source": [
    "import pandas as pd\n",
    "import matplotlib.pyplot as plt\n",
    "import numpy as np\n",
    "import matplotlib\n",
    "from scipy.integrate import ode\n",
    "from tqdm import tqdm\n",
    "\n",
    "matplotlib.rcParams['font.family'] = 'serif'\n",
    "matplotlib.rcParams['text.usetex'] = True"
   ]
  },
  {
   "cell_type": "markdown",
   "id": "c4431965-1d91-4896-ba36-9daabb1cb15e",
   "metadata": {},
   "source": [
    "The momentum equation of the spinning pizza problem is\n",
    "\n",
    "\\begin{equation}\n",
    "\\label{eq:momentum}\n",
    "-\\frac{\\partial p}{\\partial r} + \\frac{\\partial \\sigma_{rr}}{\\partial r}  + \\frac{\\sigma_{rr}-\\sigma_{\\theta\\theta}}{r} + \\rho \\Omega^2 r = 0,\n",
    "\\end{equation}\n",
    "\n",
    "where $\\boldsymbol{\\sigma}$ is the elastic stress, and $p$ the pressure. The vertical force balance in the slender limit imposes $p = \\sigma_{zz}$, such that the equation \\eqref{eq:momentum} reduces to \n",
    "\n",
    "\\begin{equation}\n",
    "\\label{eq:momentum-v2}\n",
    " \\frac{\\partial (\\sigma_{rr}-\\sigma_{zz})}{\\partial r}  + \\frac{\\sigma_{rr}-\\sigma_{\\theta\\theta}}{r} + \\rho \\Omega^2 r = 0,\n",
    "\\end{equation}\n",
    "\n",
    "We assume a *shear-free* elastic mapping, defined via the function $r(R)$, where $r$ is the current Eulerian radial position of the elastic solid and $R$ its reference Lagrangian radial position. We take a neo-Hookean formulation, such that the elastic stresses are related to the elastic mapping function via \n",
    "\n",
    "\\begin{equation}\n",
    "\\label{eq:stresses}\n",
    " \\frac{\\sigma_{rr}}{G} = r'^2 - 1, \\quad \\quad  \\frac{\\sigma_{\\theta\\theta}}{G} = \\frac{r^2}{R^2} - 1, \\quad \\quad \\frac{\\sigma_{zz}}{G} = \\frac{h^2}{H^2} - 1 = \\frac{R^2}{r^2 r'^2}-1,\n",
    "\\end{equation}\n",
    "\n",
    "where prime denote derivative with respect to $R$. Injecting the constitutive relation \\eqref{eq:stresses} into the momentum balance \\eqref{eq:momentum-v2}, we get\n",
    "\n",
    "\\begin{equation}\n",
    " \\frac{1}{r'} \\left(r'^2 - \\frac{R^2}{r^2 r'^2}\\right)'  + \\frac{1}{r}\\left(r'^2 - \\frac{r^2}{R^2}\\right) + \\frac{r}{L^2} = 0, \\quad \\quad L = \\frac{G}{\\rho \\Omega^2}.\n",
    "\\end{equation}\n",
    "\n",
    "Using the initial radius $R_0$ as a scale for both $r$ and $R$, we find, \n",
    "\n",
    "\\begin{equation}\n",
    " \\frac{1}{r'} \\left(r'^2 - \\frac{R^2}{r^2 r'^2}\\right)'  + \\frac{1}{r}\\left(r'^2 - \\frac{r^2}{R^2}\\right) + \\mathrm{Pi} r = 0, \\quad \\quad \\mathrm{Pi} = \\frac{\\rho \\Omega^2 R_0^2}{G}.\n",
    "\\end{equation}\n",
    "\n",
    "with $\\mathrm{Pi}$ the so-called pizza number. The boundary condition are $r(0) = 0$ from the axial symmetry and $r'(1)=0$ from the stress-free condition at the edge. We can expand and rearrange terms to make it in a convenient form for RK4 integration. \n",
    "\n",
    "\\begin{equation}\n",
    " r'' \\left(1 + \\frac{R^2}{r^2r'^4}\\right) = -\\frac{\\mathrm{Pi} r}{2} -\\frac{1}{2r} \\left(r'^2 - \\frac{r^2}{R^2}\\right)  - \\left(\\frac{R}{r^2r'^3} - \\frac{R^2}{r^3r'^2}\\right)\n",
    "\\end{equation}"
   ]
  },
  {
   "cell_type": "code",
   "execution_count": null,
   "id": "d5b3d49b-55d1-40f4-8e2d-68f6e6db7a21",
   "metadata": {},
   "outputs": [],
   "source": []
  },
  {
   "cell_type": "code",
   "execution_count": null,
   "id": "a909f246-eab8-4cfc-9aeb-a2d58d0cc7a9",
   "metadata": {},
   "outputs": [],
   "source": []
  },
  {
   "cell_type": "code",
   "execution_count": null,
   "id": "6d320a50-f23b-4a55-a55a-6543ae7e617b",
   "metadata": {},
   "outputs": [],
   "source": []
  },
  {
   "cell_type": "code",
   "execution_count": 2,
   "id": "20354d30-ba49-4c98-be0d-35eac932843d",
   "metadata": {},
   "outputs": [],
   "source": [
    "def Matching_Condition(Pi, rp_0):\n",
    "    \"\"\" Return the matching condition, i.e. r'(1) - 1 \"\"\"\n",
    "    dR = 0.002 # grid step\n",
    "    R0 = dR # starting Lagrangian point\n",
    "    y0 = [rp_0*dR , rp_0] # initial Eulerian radius and radial stretching\n",
    "\n",
    "    def f(t, y):\n",
    "        \"\"\" RK Function \"\"\"\n",
    "        r = y[0]\n",
    "        rp = y[1]\n",
    "        R = t\n",
    "        return [rp, (   -Pi*r/2 - 1/(2*r)*(rp**2 - r**2/R**2) - ( R/(r**2*rp**3) - R**2/(r**3*rp**2) )   )  /   (1  + R**2/r**2/rp**4 ) ]\n",
    "\n",
    "    RK = ode(f).set_integrator('dopri5')\n",
    "    RK.set_initial_value(y0, R0)\n",
    "\n",
    "    r_save, rp_save, R_save = [y0[0]], [y0[1]], [R0] # Saving list\n",
    "\n",
    "    while RK.successful() and RK.t < 1.:\n",
    "        A = RK.integrate(RK.t+dR)\n",
    "        r_save.append(A[0])\n",
    "        rp_save.append(A[1])\n",
    "        R_save.append(RK.t)\n",
    "        \n",
    "    r = np.array(r_save)\n",
    "    R = np.array(R_save)\n",
    "    I = np.sum(r[:]*2*R[:]*(1-R[:]**2)*dR) # moment of inertia with drop initial condition\n",
    "    return rp_save[-1] - 1., r_save[-1]  , I\n",
    "\n",
    "\n",
    "def Stretching(Pi):\n",
    "    \"\"\" Matching algorithm - Find the relevent central stretching with a dichotomy algorithm\"\"\"\n",
    "    dich_idx = 0 # index for the dichotomy loop\n",
    "    stetching_min = 0.8\n",
    "    stetching_max = 100000000\n",
    "    while dich_idx < 50: # 50 so that we have an accuracy ~ (1/2)^50 = detla * 10^-15\n",
    "        condition, r_max, I = Matching_Condition(Pi, (stetching_min+stetching_max)/2)\n",
    "        if condition > 0 :\n",
    "            stetching_max = (stetching_min+stetching_max)/2\n",
    "        else :\n",
    "            stetching_min = (stetching_min+stetching_max)/2\n",
    "        dich_idx += 1\n",
    "    \n",
    "    return (stetching_min+stetching_max)/2, r_max, I\n",
    "\n",
    "\n",
    "def Solution(Pi, rp_0):\n",
    "    \"\"\"Same as before, but return the profiles. \"\"\"\n",
    "    dR = 0.001 # grid step\n",
    "    R0 = dR # starting Lagrangian point\n",
    "    y0 = [rp_0*dR , rp_0] # initial Eulerian radius and radial stretching\n",
    "\n",
    "    def f(t, y):\n",
    "        \"\"\" RK Function \"\"\"\n",
    "        r = y[0]\n",
    "        rp = y[1]\n",
    "        R = t\n",
    "        return [rp, (   -Pi*r/2 - 1/(2*r)*(rp**2 - r**2/R**2) - ( R/(r**2*rp**3) - R**2/(r**3*rp**2) )   )  /   (1  + R**2/r**2/rp**4 ) ]\n",
    "\n",
    "    RK = ode(f).set_integrator('dopri5')\n",
    "    RK.set_initial_value(y0, R0)\n",
    "    r_save, rp_save, R_save = [y0[0]], [y0[1]], [R0]\n",
    "\n",
    "    while RK.successful() and RK.t < 1.:\n",
    "        A = RK.integrate(RK.t+dR)\n",
    "        r_save.append(A[0])\n",
    "        rp_save.append(A[1])\n",
    "        R_save.append(RK.t)\n",
    "        \n",
    "    return np.array(r_save), np.array(rp_save), np.array(R_save)"
   ]
  },
  {
   "cell_type": "code",
   "execution_count": 3,
   "id": "65e42867-2b9d-4300-aed9-aabc01d424e7",
   "metadata": {},
   "outputs": [],
   "source": [
    "Pi_0 = 0\n",
    "Pi_1 = 1.\n",
    "Pi_2 = 2.\n",
    "Pi_3 = 3.\n",
    "Pi_4 = 4.\n",
    "\n",
    "Pi_5 = 5.\n",
    "Pi_6 = 5.3\n",
    "Pi_7 = 5.6\n",
    "Pi_8 = 5.9\n",
    "\n",
    "Pi_9 = 6.2546\n",
    "\n",
    "LABELS = [r'$0$', r'$1$', r'$2$', r'$3$', r'$4$', r'$5$', r'$5.3$', r'$5.6$', r'$5.9$', r'$6.2546$']\n",
    "\n",
    "stetching0, r_max, I = Stretching(Pi_0)\n",
    "stetching1, r_max, I = Stretching(Pi_1)\n",
    "stetching2, r_max, I = Stretching(Pi_2)\n",
    "stetching3, r_max, I = Stretching(Pi_3)\n",
    "stetching4, r_max, I = Stretching(Pi_4)\n",
    "stetching5, r_max, I = Stretching(Pi_5)\n",
    "stetching6, r_max, I = Stretching(Pi_6)\n",
    "stetching7, r_max, I = Stretching(Pi_7)\n",
    "stetching8, r_max, I = Stretching(Pi_8)\n",
    "stetching9, r_max, I = Stretching(Pi_9)"
   ]
  },
  {
   "cell_type": "code",
   "execution_count": 4,
   "id": "fe7dc7e5-cb09-4f77-9fa4-4121daf37620",
   "metadata": {},
   "outputs": [],
   "source": [
    "r0, rp0, R0 = Solution(Pi_0, stetching0) \n",
    "r1, rp1, R1 = Solution(Pi_1, stetching1) \n",
    "r2, rp2, R2 = Solution(Pi_2, stetching2) \n",
    "r3, rp3, R3 = Solution(Pi_3, stetching3) \n",
    "r4, rp4, R4 = Solution(Pi_4, stetching4)\n",
    "r5, rp5, R5 = Solution(Pi_5, stetching5) \n",
    "r6, rp6, R6 = Solution(Pi_6, stetching6) \n",
    "r7, rp7, R7 = Solution(Pi_7, stetching7) \n",
    "r8, rp8, R8 = Solution(Pi_8, stetching8) \n",
    "r9, rp9, R9 = Solution(Pi_9, stetching9) "
   ]
  },
  {
   "cell_type": "code",
   "execution_count": 6,
   "id": "08ac24bc-6e73-4725-980e-0fa19a14e05c",
   "metadata": {},
   "outputs": [
    {
     "name": "stdout",
     "output_type": "stream",
     "text": [
      "[4.675, 1.87]\n"
     ]
    },
    {
     "data": {
      "image/png": "[encoded data removed]",
      "text/plain": [
       "<Figure size 336.6x134.64 with 2 Axes>"
      ]
     },
     "metadata": {
      "needs_background": "light"
     },
     "output_type": "display_data"
    },
    {
     "data": {
      "image/png": "[encoded data removed]",
      "text/plain": [
       "<Figure size 336.6x134.64 with 1 Axes>"
      ]
     },
     "metadata": {
      "needs_background": "light"
     },
     "output_type": "display_data"
    }
   ],
   "source": [
    "\n",
    "\n",
    "\n",
    "####### Figure parameters ######\n",
    "fig_width_pt = 340.0        # Get this from LaTeX using \\the\\columnwidth --> 246/510 are the values for double/single column APS template\n",
    "inches_per_pt = 1.0/72.               # Convert pt to inch\n",
    "columnwidth = 0.99                    # width of the figure in columnwidth unit\n",
    "fig_width = fig_width_pt*inches_per_pt*columnwidth  # width in inches\n",
    "aspect_ratio = 0.4\n",
    "fig_height = fig_width*aspect_ratio      # height in inches\n",
    "fig_size =  [fig_width,fig_height]\n",
    "print(fig_size)\n",
    "font_size = 10\n",
    "params = {#'backend': 'ps',\n",
    "          #'figure.facecolor':'bisque',\n",
    "          #'axes.facecolor':'palegreen',\n",
    "          'axes.labelsize': 10,\n",
    "          'legend.fontsize': 10,\n",
    "          'xtick.labelsize': 10,\n",
    "          'ytick.labelsize': 10,\n",
    "          'text.usetex': True,\n",
    "          #'font.family': 'Times', #<--- here we use the new google font\n",
    "          'figure.figsize': fig_size}\n",
    "plt.rcParams.update(params)\n",
    "\n",
    "fig = plt.figure() \n",
    "\n",
    "L  = 0.11\n",
    "B  = 0.2\n",
    "dW = 0.06\n",
    "W  = (0.98 - dW-L)/2\n",
    "H  = 0.98 - B\n",
    "\n",
    "\n",
    "\n",
    "ax = fig.add_axes([L, B, W, H]) \n",
    "\n",
    "ax.plot(R0, r0, label = LABELS[0])\n",
    "ax.plot(R1, r1, label = LABELS[1])\n",
    "ax.plot(R2, r2, label = LABELS[2])\n",
    "ax.plot(R3, r3, label = LABELS[3])\n",
    "ax.plot(R4, r4, label = LABELS[4])\n",
    "ax.set_ylabel(r'$r/R_0$')\n",
    "ax.set_xlabel(r'$R/R_0$', labelpad = 1)\n",
    "ax.legend(loc='upper left', bbox_to_anchor=(0, 1.03), frameon=False, fontsize = 8, handletextpad = 0.4, handlelength = 1.0, ncol = 2, title = r'$\\mathrm{Pi} = \\frac{\\rho \\Omega^2 R_0^2}{G}$', title_fontsize = 8)\n",
    "\n",
    "ax = fig.add_axes([L+W+dW, B, W, H]) \n",
    "ax.plot(R5, r5, label = LABELS[5])\n",
    "ax.plot(R6, r6, label = LABELS[6])\n",
    "ax.plot(R7, r7, label = LABELS[7])\n",
    "ax.plot(R8, r8, label = LABELS[8])\n",
    "#ax.plot(R9, r9, label = LABELS[9])\n",
    "#ax.set_ylabel(r'$r/R_0$')\n",
    "ax.set_xlabel(r'$R/R_0$', labelpad = 1)\n",
    "ax.legend(loc='upper left', bbox_to_anchor=(0, 1.03), frameon=False, fontsize = 8, handletextpad = 0.4, handlelength = 1.0, ncol = 2, title = r'$\\mathrm{Pi} = \\frac{\\rho \\Omega^2 R_0^2}{G}$', title_fontsize = 8)\n",
    "plt.savefig('Pizza.pdf')\n",
    "\n"
   ]
  },
  {
   "cell_type": "code",
   "execution_count": 7,
   "id": "e142882e-1077-44d5-b777-724135db1bb3",
   "metadata": {},
   "outputs": [
    {
     "name": "stdout",
     "output_type": "stream",
     "text": [
      "[4.675, 1.87]\n"
     ]
    },
    {
     "data": {
      "image/png": "[encoded data removed]",
      "text/plain": [
       "<Figure size 336.6x134.64 with 1 Axes>"
      ]
     },
     "metadata": {
      "needs_background": "light"
     },
     "output_type": "display_data"
    }
   ],
   "source": [
    "# -Pi*r/2 - 1/(2*r)*(rp**2 - r**2/R**2) - ( R/(r**2*rp**3) - R**2/(r**3*rp**2) )   )\n",
    "\n",
    "####### Figure parameters ######\n",
    "fig_width_pt = 340.0        # Get this from LaTeX using \\the\\columnwidth --> 246/510 are the values for double/single column APS template\n",
    "inches_per_pt = 1.0/72.               # Convert pt to inch\n",
    "columnwidth = 0.99                    # width of the figure in columnwidth unit\n",
    "fig_width = fig_width_pt*inches_per_pt*columnwidth  # width in inches\n",
    "aspect_ratio = 0.4\n",
    "fig_height = fig_width*aspect_ratio      # height in inches\n",
    "fig_size =  [fig_width,fig_height]\n",
    "print(fig_size)\n",
    "font_size = 10\n",
    "params = {#'backend': 'ps',\n",
    "          #'figure.facecolor':'bisque',\n",
    "          #'axes.facecolor':'palegreen',\n",
    "          'axes.labelsize': 10,\n",
    "          'legend.fontsize': 10,\n",
    "          'xtick.labelsize': 10,\n",
    "          'ytick.labelsize': 10,\n",
    "          'text.usetex': True,\n",
    "          #'font.family': 'Times', #<--- here we use the new google font\n",
    "          'figure.figsize': fig_size}\n",
    "plt.rcParams.update(params)\n",
    "\n",
    "fig = plt.figure() \n",
    "ax = fig.add_axes([L+0.1, B, W, H]) \n",
    "\n",
    "dR_plot = R9[1]-R9[0]\n",
    "\n",
    "ddr9 = (r9[2:]-2*r9[1:-1]+r9[:-2])/dR_plot**2\n",
    "\n",
    "dr9_test = (r9[1:]-r9[:-1])/(R9[1:]-R9[:-1])\n",
    "ddr9_bis = (rp9[1:]-rp9[:-1])/(R9[1:]-R9[:-1])\n",
    "\n",
    "\n",
    "ax.plot(R9, Pi_9*r9 , label = r'$\\mathrm{Pi} \\, r$')\n",
    "ax.plot(R9[1:-1], -2*ddr9 , label = r'$\\frac{\\mathrm{d}\\sigma_{rr}}{\\mathrm{d}r} = 2 r^{\\prime\\prime}$')\n",
    "ax.plot(R9,  -1/(r9)*(rp9**2 -r9**2/R9**2) , label = r'$\\frac{\\sigma_{rr}-\\sigma_{\\theta\\theta}}{r} = \\frac{r^{\\prime 2}}{r} - \\frac{r}{R^2}$')\n",
    "#ax.plot(R9,  1/(r9)*(), label = r'$\\frac{\\sigma_{\\theta\\theta}}{r} = \\frac{r}{R^2}$' )\n",
    "#ax.plot(R9, -Pi_9*r9/2 - 1/(2*r9)*(rp9**2 - r9**2/R9**2), '--')\n",
    "ax.legend(loc='upper left', bbox_to_anchor=(1., 1.03), frameon=False, fontsize = 8, handletextpad = 0.4, handlelength = 1.4)\n",
    "ax.set_ylim(0, 500000)\n",
    "#ax.set_yscale('log')\n",
    "plt.savefig('terms.pdf', bbox_inches = 'tight')"
   ]
  },
  {
   "cell_type": "code",
   "execution_count": null,
   "id": "c09d49d8-b34b-415a-b423-644b443241d1",
   "metadata": {},
   "outputs": [],
   "source": []
  },
  {
   "cell_type": "code",
   "execution_count": null,
   "id": "b8c135bd-166c-4680-9ace-65b283291154",
   "metadata": {},
   "outputs": [],
   "source": []
  },
  {
   "cell_type": "code",
   "execution_count": 8,
   "id": "0b0277e5-afc2-48de-bb37-1ad2a630404a",
   "metadata": {},
   "outputs": [
    {
     "name": "stderr",
     "output_type": "stream",
     "text": [
      "100%|█████████████████████████████████| 100/100 [01:19<00:00,  1.26it/s]\n"
     ]
    }
   ],
   "source": [
    "N_plot = 100\n",
    "Pi_c = 6.25467\n",
    "Log_axis = np.logspace(-5,0, N_plot)\n",
    "\n",
    "Pi_plot = Pi_c - Log_axis\n",
    "\n",
    "\n",
    "\n",
    "STRETCH, RMAX, Inertia = np.zeros(N_plot), np.zeros(N_plot), np.zeros(N_plot)\n",
    "#for i in range(N_plot):\n",
    "for i in tqdm(range(N_plot)):\n",
    "    STRETCH[i], RMAX[i], Inertia[i] = Stretching(Pi_plot[i])"
   ]
  },
  {
   "cell_type": "code",
   "execution_count": 9,
   "id": "da791dd8-956f-4cec-bcd8-dc5f12e1c977",
   "metadata": {},
   "outputs": [
    {
     "name": "stdout",
     "output_type": "stream",
     "text": [
      "[4.675, 1.87]\n"
     ]
    },
    {
     "data": {
      "image/png": "[encoded data removed]",
      "text/plain": [
       "<Figure size 336.6x134.64 with 2 Axes>"
      ]
     },
     "metadata": {
      "needs_background": "light"
     },
     "output_type": "display_data"
    }
   ],
   "source": [
    "####### Figure parameters ######\n",
    "fig_width_pt = 340.0        # Get this from LaTeX using \\the\\columnwidth --> 246/510 are the values for double/single column APS template\n",
    "inches_per_pt = 1.0/72.               # Convert pt to inch\n",
    "columnwidth = 0.99                    # width of the figure in columnwidth unit\n",
    "fig_width = fig_width_pt*inches_per_pt*columnwidth  # width in inches\n",
    "aspect_ratio = 0.4\n",
    "fig_height = fig_width*aspect_ratio      # height in inches\n",
    "fig_size =  [fig_width,fig_height]\n",
    "print(fig_size)\n",
    "font_size = 10\n",
    "params = {#'backend': 'ps',\n",
    "          #'figure.facecolor':'bisque',\n",
    "          #'axes.facecolor':'palegreen',\n",
    "          'axes.labelsize': 10,\n",
    "          'legend.fontsize': 10,\n",
    "          'xtick.labelsize': 10,\n",
    "          'ytick.labelsize': 10,\n",
    "          'text.usetex': True,\n",
    "          #'font.family': 'Times', #<--- here we use the new google font\n",
    "          'figure.figsize': fig_size}\n",
    "plt.rcParams.update(params)\n",
    "fig = plt.figure() \n",
    "\n",
    "L  = 0.11\n",
    "B  = 0.2\n",
    "dW = 0.08\n",
    "W  = (0.98 - dW-L)/2\n",
    "H  = 0.98 - B\n",
    "\n",
    "Pi_c = 6.25467\n",
    "\n",
    "ax = fig.add_axes([L, B, W, H]) \n",
    "\n",
    "ax.plot(Pi_plot, RMAX, 'o', markersize = 3, markeredgewidth=0.3)\n",
    "ax.plot([Pi_c, Pi_c], [0, RMAX[0]], '--', label = r'$\\mathrm{Pi}_c = 6.25467$')\n",
    "ax.set_ylim(0, 520)\n",
    "ax.set_ylabel(r'$r_\\mathrm{max}/R_0$')\n",
    "ax.set_xlabel(r'$\\mathrm{Pi}$', labelpad = 1)\n",
    "ax.legend(loc='upper left', bbox_to_anchor=(0, 1.03), frameon=False, fontsize = 8, handletextpad = 0.4, handlelength = 2.0)\n",
    "\n",
    "ax = fig.add_axes([L+W+dW, B, W, H]) \n",
    "ax.plot(Pi_c-Pi_plot, RMAX, 'o', markersize = 3, markeredgewidth=0.3)\n",
    "ax.plot(Pi_c-Pi_plot, 5*(Pi_c-Pi_plot)**(-1), '--', label = r'$(\\mathrm{Pi}_c-\\mathrm{Pi})^{-1}$')\n",
    "ax.set_xscale('log')\n",
    "ax.set_yscale('log')\n",
    "ax.set_xlabel(r'$\\mathrm{Pi}_c-\\mathrm{Pi}$', labelpad = 1)\n",
    "ax.legend(loc='upper right', bbox_to_anchor=(1.03, 1.03), frameon=False, fontsize = 8, handletextpad = 0.4, handlelength = 2.0)\n",
    "plt.savefig('Criticality.pdf')"
   ]
  },
  {
   "cell_type": "code",
   "execution_count": 10,
   "id": "26b754a6-3839-4b0f-aa49-b0dcbd3108ed",
   "metadata": {},
   "outputs": [
    {
     "name": "stderr",
     "output_type": "stream",
     "text": [
      "No artists with labels found to put in legend.  Note that artists whose label start with an underscore are ignored when legend() is called with no argument.\n"
     ]
    },
    {
     "name": "stdout",
     "output_type": "stream",
     "text": [
      "[4.675, 1.87]\n"
     ]
    },
    {
     "data": {
      "image/png": "[encoded data removed]",
      "text/plain": [
       "<Figure size 336.6x134.64 with 2 Axes>"
      ]
     },
     "metadata": {
      "needs_background": "light"
     },
     "output_type": "display_data"
    }
   ],
   "source": [
    "####### Figure parameters ######\n",
    "fig_width_pt = 340.0        # Get this from LaTeX using \\the\\columnwidth --> 246/510 are the values for double/single column APS template\n",
    "inches_per_pt = 1.0/72.               # Convert pt to inch\n",
    "columnwidth = 0.99                    # width of the figure in columnwidth unit\n",
    "fig_width = fig_width_pt*inches_per_pt*columnwidth  # width in inches\n",
    "aspect_ratio = 0.4\n",
    "fig_height = fig_width*aspect_ratio      # height in inches\n",
    "fig_size =  [fig_width,fig_height]\n",
    "print(fig_size)\n",
    "font_size = 10\n",
    "params = {#'backend': 'ps',\n",
    "          #'figure.facecolor':'bisque',\n",
    "          #'axes.facecolor':'palegreen',\n",
    "          'axes.labelsize': 10,\n",
    "          'legend.fontsize': 10,\n",
    "          'xtick.labelsize': 10,\n",
    "          'ytick.labelsize': 10,\n",
    "          'text.usetex': True,\n",
    "          #'font.family': 'Times', #<--- here we use the new google font\n",
    "          'figure.figsize': fig_size}\n",
    "plt.rcParams.update(params)\n",
    "fig = plt.figure() \n",
    "L  = 0.14\n",
    "B  = 0.25\n",
    "dW = 0.14\n",
    "W  = (0.98 - dW-L)/2\n",
    "H  = 0.98 - B\n",
    "\n",
    "Pi_c = 6.25467\n",
    "ax = fig.add_axes([L, B, W, H]) \n",
    "\n",
    "ax.plot(Pi_plot, Inertia, 'o', markersize = 3, markeredgewidth=0.3)\n",
    "ax.plot([Pi_c, Pi_c], [0, Inertia[0]], '--', label = r'$\\mathrm{Pi}_c = 6.25467$')\n",
    "ax.set_ylim(0, 210)\n",
    "ax.set_ylabel(r'$I / (\\rho R_0^4 H_0)$')\n",
    "ax.set_xlabel(r'$\\mathrm{Pi} = \\frac{\\Omega^2}{\\Omega_0^2}$', labelpad = 1)\n",
    "ax.legend(loc='upper left', bbox_to_anchor=(0, 1.03), frameon=False, fontsize = 8, handletextpad = 0.4, handlelength = 2.0)\n",
    "\n",
    "ax = fig.add_axes([L+W+dW, B, W, H]) \n",
    "ax.plot(Pi_plot, Inertia*np.sqrt(Pi_plot), 'o', markersize = 3, markeredgewidth=0.3)\n",
    "ax.set_ylim(0, 1100)\n",
    "ax.set_xlabel(r'$\\mathrm{Pi} = \\frac{\\Omega^2}{\\Omega_0^2}$', labelpad = 1)\n",
    "ax.set_ylabel(r'$L = I\\Omega / (\\rho R_0^4 H_0\\Omega_0)$', labelpad = 1)\n",
    "ax.legend(loc='upper right', bbox_to_anchor=(1.03, 1.03), frameon=False, fontsize = 8, handletextpad = 0.4, handlelength = 2.0)\n",
    "plt.savefig('MomentInertia.pdf')"
   ]
  },
  {
   "cell_type": "code",
   "execution_count": null,
   "id": "e9aa0227-d369-49ba-a06e-7e9557737bbf",
   "metadata": {},
   "outputs": [],
   "source": []
  },
  {
   "cell_type": "code",
   "execution_count": null,
   "id": "a03a396c-4b22-490b-97a0-b5e3a5961431",
   "metadata": {},
   "outputs": [],
   "source": []
  },
  {
   "cell_type": "code",
   "execution_count": null,
   "id": "4ae7dddb-2f8c-4425-bb4a-092b6610e2c4",
   "metadata": {},
   "outputs": [],
   "source": []
  },
  {
   "cell_type": "code",
   "execution_count": 13,
   "id": "6c41e67b-6272-4c07-997b-3ba8a6c635ab",
   "metadata": {},
   "outputs": [
    {
     "name": "stdout",
     "output_type": "stream",
     "text": [
      "[4.675, 3.74]\n"
     ]
    },
    {
     "data": {
      "image/png": "[encoded data removed]",
      "text/plain": [
       "<Figure size 336.6x269.28 with 4 Axes>"
      ]
     },
     "metadata": {
      "needs_background": "light"
     },
     "output_type": "display_data"
    }
   ],
   "source": [
    "h0 = R0/(r0*rp0)\n",
    "h1 = R1/(r1*rp1)\n",
    "h2 = R2/(r2*rp2)\n",
    "h3 = R3/(r3*rp3)\n",
    "h4 = R4/(r4*rp4)\n",
    "h5 = R5/(r5*rp5)\n",
    "h6 = R6/(r6*rp6)\n",
    "h7 = R7/(r7*rp7)\n",
    "h8 = R8/(r8*rp8)\n",
    "\n",
    "\n",
    "fig_width_pt = 340.0        # Get this from LaTeX using \\the\\columnwidth --> 246/510 are the values for double/single column APS template\n",
    "inches_per_pt = 1.0/72.               # Convert pt to inch\n",
    "columnwidth = 0.99                    # width of the figure in columnwidth unit\n",
    "fig_width = fig_width_pt*inches_per_pt*columnwidth  # width in inches\n",
    "aspect_ratio = 0.8\n",
    "fig_height = fig_width*aspect_ratio      # height in inches\n",
    "fig_size =  [fig_width,fig_height]\n",
    "print(fig_size)\n",
    "font_size = 10\n",
    "params = {#'backend': 'ps',\n",
    "          #'figure.facecolor':'bisque',\n",
    "          #'axes.facecolor':'palegreen',\n",
    "          'axes.labelsize': 10,\n",
    "          'legend.fontsize': 10,\n",
    "          'xtick.labelsize': 10,\n",
    "          'ytick.labelsize': 10,\n",
    "          'text.usetex': True,\n",
    "          #'font.family': 'Times', #<--- here we use the new google font\n",
    "          'figure.figsize': fig_size}\n",
    "plt.rcParams.update(params)\n",
    "\n",
    "fig = plt.figure() \n",
    "\n",
    "L  = 0.12\n",
    "B  = 0.1\n",
    "dW = 0.1\n",
    "dH = 0.1\n",
    "W  = (0.98 - dW-L)/2\n",
    "H  = (0.98 - B - dH) / 2\n",
    "\n",
    "\n",
    "\n",
    "ax = fig.add_axes([L, B+dH+H, W, H]) \n",
    "\n",
    "ax.plot(R0, r0, label = LABELS[0], color = 'black', linestyle = 'dashed')\n",
    "ax.plot(R1, r1, label = LABELS[1])\n",
    "ax.plot(R2, r2, label = LABELS[2])\n",
    "ax.plot(R3, r3, label = LABELS[3])\n",
    "ax.plot(R4, r4, label = LABELS[4])\n",
    "ax.set_ylabel(r'$r/R_0$')\n",
    "ax.set_xlabel(r'$R/R_0$', labelpad = 1)\n",
    "ax.legend(loc='upper left', bbox_to_anchor=(0, 1.03), frameon=False, fontsize = 8, handletextpad = 0.4, handlelength = 1.0, ncol = 2, columnspacing=0.3, title = r'$\\mathrm{Pi} = \\frac{\\rho \\Omega^2 R_0^2}{G}$', title_fontsize = 8)\n",
    "\n",
    "ax = fig.add_axes([L+W+dW, B+dH+H, W, H]) \n",
    "ax.plot(R5, r5, label = LABELS[5])\n",
    "ax.plot(R6, r6, label = LABELS[6])\n",
    "ax.plot(R7, r7, label = LABELS[7])\n",
    "ax.plot(R8, r8, label = LABELS[8])\n",
    "#ax.plot(R9, r9, label = LABELS[9])\n",
    "ax.set_ylabel(r'$r/R_0$')\n",
    "ax.set_xlabel(r'$R/R_0$', labelpad = 1)\n",
    "ax.legend(loc='upper left', bbox_to_anchor=(0, 1.03), frameon=False, fontsize = 8, handletextpad = 0.4, handlelength = 1.0, ncol = 2, columnspacing=0.3, title = r'$\\mathrm{Pi} = \\frac{\\rho \\Omega^2 R_0^2}{G}$', title_fontsize = 8)\n",
    "\n",
    "\n",
    "\n",
    "ax = fig.add_axes([L, B, W, H]) \n",
    "\n",
    "ax.plot(r0, h0, label = LABELS[0], color = 'black', linestyle = 'dashed')\n",
    "ax.plot(r1, h1, label = LABELS[1])\n",
    "ax.plot(r2, h2, label = LABELS[2])\n",
    "ax.plot(r3, h3, label = LABELS[3])\n",
    "ax.plot(r4, h4, label = LABELS[4])\n",
    "ax.set_ylabel(r'$h/H_0$')\n",
    "ax.set_xlabel(r'$r/R_0$', labelpad = 1)\n",
    "#ax.legend(loc='upper left', bbox_to_anchor=(0, 1.03), frameon=False, fontsize = 8, handletextpad = 0.4, handlelength = 1.0, ncol = 2, title = r'$\\mathrm{Pi} = \\frac{\\rho \\Omega^2 R_0^2}{G}$', title_fontsize = 8)\n",
    "\n",
    "ax = fig.add_axes([L+W+dW, B, W, H]) \n",
    "ax.plot(r5, h5, label = LABELS[5])\n",
    "ax.plot(r6, h6, label = LABELS[6])\n",
    "ax.plot(r7, h7, label = LABELS[7])\n",
    "ax.plot(r8, h8, label = LABELS[8])\n",
    "#ax.plot(R9, r9, label = LABELS[9])\n",
    "ax.set_ylabel(r'$h/H_0$')\n",
    "ax.set_xlabel(r'$r/R_0$', labelpad = 1)\n",
    "#ax.legend(loc='upper left', bbox_to_anchor=(0, 1.03), frameon=False, fontsize = 8, handletextpad = 0.4, handlelength = 1.0, ncol = 2, title = r'$\\mathrm{Pi} = \\frac{\\rho \\Omega^2 R_0^2}{G}$', title_fontsize = 8)\n",
    "plt.savefig('Pizza_V2.pdf')\n"
   ]
  },
  {
   "cell_type": "code",
   "execution_count": 16,
   "id": "a94c5274-bd79-41a8-91d4-d2e4baeb04e0",
   "metadata": {},
   "outputs": [
    {
     "name": "stdout",
     "output_type": "stream",
     "text": [
      "[4.675, 3.74]\n"
     ]
    },
    {
     "data": {
      "image/png": "[encoded data removed]",
      "text/plain": [
       "<Figure size 336.6x269.28 with 4 Axes>"
      ]
     },
     "metadata": {
      "needs_background": "light"
     },
     "output_type": "display_data"
    }
   ],
   "source": [
    "h0 = R0/(r0*rp0)*(1-R0**2)\n",
    "h1 = R1/(r1*rp1)*(1-R0**2)\n",
    "h2 = R2/(r2*rp2)*(1-R0**2)\n",
    "h3 = R3/(r3*rp3)*(1-R0**2)\n",
    "h4 = R4/(r4*rp4)*(1-R0**2)\n",
    "h5 = R5/(r5*rp5)*(1-R0**2)\n",
    "h6 = R6/(r6*rp6)*(1-R0**2)\n",
    "h7 = R7/(r7*rp7)*(1-R0**2)\n",
    "h8 = R8/(r8*rp8)*(1-R0**2)\n",
    "\n",
    "\n",
    "fig_width_pt = 340.0        # Get this from LaTeX using \\the\\columnwidth --> 246/510 are the values for double/single column APS template\n",
    "inches_per_pt = 1.0/72.               # Convert pt to inch\n",
    "columnwidth = 0.99                    # width of the figure in columnwidth unit\n",
    "fig_width = fig_width_pt*inches_per_pt*columnwidth  # width in inches\n",
    "aspect_ratio = 0.8\n",
    "fig_height = fig_width*aspect_ratio      # height in inches\n",
    "fig_size =  [fig_width,fig_height]\n",
    "print(fig_size)\n",
    "font_size = 10\n",
    "params = {#'backend': 'ps',\n",
    "          #'figure.facecolor':'bisque',\n",
    "          #'axes.facecolor':'palegreen',\n",
    "          'axes.labelsize': 10,\n",
    "          'legend.fontsize': 10,\n",
    "          'xtick.labelsize': 10,\n",
    "          'ytick.labelsize': 10,\n",
    "          'text.usetex': True,\n",
    "          #'font.family': 'Times', #<--- here we use the new google font\n",
    "          'figure.figsize': fig_size}\n",
    "plt.rcParams.update(params)\n",
    "\n",
    "fig = plt.figure() \n",
    "\n",
    "L  = 0.12\n",
    "B  = 0.1\n",
    "dW = 0.1\n",
    "dH = 0.1\n",
    "W  = (0.98 - dW-L)/2\n",
    "H  = (0.98 - B - dH) / 2\n",
    "\n",
    "\n",
    "\n",
    "ax = fig.add_axes([L, B+dH+H, W, H]) \n",
    "\n",
    "ax.plot(R0, r0, label = LABELS[0], color = 'black', linestyle = 'dashed')\n",
    "ax.plot(R1, r1, label = LABELS[1])\n",
    "ax.plot(R2, r2, label = LABELS[2])\n",
    "ax.plot(R3, r3, label = LABELS[3])\n",
    "ax.plot(R4, r4, label = LABELS[4])\n",
    "ax.set_ylabel(r'$r/R_0$')\n",
    "ax.set_xlabel(r'$R/R_0$', labelpad = 1)\n",
    "ax.legend(loc='upper left', bbox_to_anchor=(0, 1.03), frameon=False, fontsize = 8, handletextpad = 0.4, handlelength = 1.0, ncol = 2, columnspacing=0.3, title = r'$\\mathrm{Pi} = \\frac{\\rho \\Omega^2 R_0^2}{G}$', title_fontsize = 8)\n",
    "\n",
    "ax = fig.add_axes([L+W+dW, B+dH+H, W, H]) \n",
    "ax.plot(R5, r5, label = LABELS[5])\n",
    "ax.plot(R6, r6, label = LABELS[6])\n",
    "ax.plot(R7, r7, label = LABELS[7])\n",
    "ax.plot(R8, r8, label = LABELS[8])\n",
    "#ax.plot(R9, r9, label = LABELS[9])\n",
    "ax.set_ylabel(r'$r/R_0$')\n",
    "ax.set_xlabel(r'$R/R_0$', labelpad = 1)\n",
    "ax.legend(loc='upper left', bbox_to_anchor=(0, 1.03), frameon=False, fontsize = 8, handletextpad = 0.4, handlelength = 1.0, ncol = 2, columnspacing=0.3, title = r'$\\mathrm{Pi} = \\frac{\\rho \\Omega^2 R_0^2}{G}$', title_fontsize = 8)\n",
    "\n",
    "\n",
    "\n",
    "ax = fig.add_axes([L, B, W, H]) \n",
    "\n",
    "ax.plot(r0, h0, label = LABELS[0], color = 'black', linestyle = 'dashed')\n",
    "ax.plot(r1, h1, label = LABELS[1])\n",
    "ax.plot(r2, h2, label = LABELS[2])\n",
    "ax.plot(r3, h3, label = LABELS[3])\n",
    "ax.plot(r4, h4, label = LABELS[4])\n",
    "ax.set_ylabel(r'$h/H_0$')\n",
    "ax.set_xlabel(r'$r/R_0$', labelpad = 1)\n",
    "#ax.legend(loc='upper left', bbox_to_anchor=(0, 1.03), frameon=False, fontsize = 8, handletextpad = 0.4, handlelength = 1.0, ncol = 2, title = r'$\\mathrm{Pi} = \\frac{\\rho \\Omega^2 R_0^2}{G}$', title_fontsize = 8)\n",
    "\n",
    "ax = fig.add_axes([L+W+dW, B, W, H]) \n",
    "ax.plot(r5, h5, label = LABELS[5])\n",
    "ax.plot(r6, h6, label = LABELS[6])\n",
    "ax.plot(r7, h7, label = LABELS[7])\n",
    "ax.plot(r8, h8, label = LABELS[8])\n",
    "#ax.plot(R9, r9, label = LABELS[9])\n",
    "ax.set_ylabel(r'$h/H_0$')\n",
    "ax.set_xlabel(r'$r/R_0$', labelpad = 1)\n",
    "#ax.legend(loc='upper left', bbox_to_anchor=(0, 1.03), frameon=False, fontsize = 8, handletextpad = 0.4, handlelength = 1.0, ncol = 2, title = r'$\\mathrm{Pi} = \\frac{\\rho \\Omega^2 R_0^2}{G}$', title_fontsize = 8)\n",
    "plt.savefig('Pizza_V3.pdf')\n"
   ]
  },
  {
   "cell_type": "code",
   "execution_count": 17,
   "id": "6c2aee76-f285-4ee7-94d1-175a19e80ba3",
   "metadata": {},
   "outputs": [
    {
     "name": "stdout",
     "output_type": "stream",
     "text": [
      "[4.675, 1.87]\n"
     ]
    },
    {
     "data": {
      "text/plain": [
       "<Figure size 336.6x134.64 with 0 Axes>"
      ]
     },
     "metadata": {},
     "output_type": "display_data"
    },
    {
     "data": {
      "image/png": "[encoded data removed]",
      "text/plain": [
       "<Figure size 336.6x134.64 with 2 Axes>"
      ]
     },
     "metadata": {
      "needs_background": "light"
     },
     "output_type": "display_data"
    }
   ],
   "source": [
    "h9 = R9/(r9*rp9)*(1-R9**2)\n",
    "\n",
    "\n",
    "fig_width_pt = 340.0        # Get this from LaTeX using \\the\\columnwidth --> 246/510 are the values for double/single column APS template\n",
    "inches_per_pt = 1.0/72.               # Convert pt to inch\n",
    "columnwidth = 0.99                    # width of the figure in columnwidth unit\n",
    "fig_width = fig_width_pt*inches_per_pt*columnwidth  # width in inches\n",
    "aspect_ratio = 0.4\n",
    "fig_height = fig_width*aspect_ratio      # height in inches\n",
    "fig_size =  [fig_width,fig_height]\n",
    "print(fig_size)\n",
    "font_size = 10\n",
    "params = {#'backend': 'ps',\n",
    "          #'figure.facecolor':'bisque',\n",
    "          #'axes.facecolor':'palegreen',\n",
    "          'axes.labelsize': 10,\n",
    "          'legend.fontsize': 10,\n",
    "          'xtick.labelsize': 10,\n",
    "          'ytick.labelsize': 10,\n",
    "          'text.usetex': True,\n",
    "          #'font.family': 'Times', #<--- here we use the new google font\n",
    "          'figure.figsize': fig_size}\n",
    "plt.rcParams.update(params)\n",
    "\n",
    "fig = plt.figure() \n",
    "\n",
    "L  = 0.12\n",
    "B  = 0.2\n",
    "dW = 0.12\n",
    "#dH = 0.1\n",
    "W  = (0.98 - dW-L)/2\n",
    "H  = (0.98 - B ) \n",
    "\n",
    "\n",
    "\n",
    "fig = plt.figure() \n",
    "ax = fig.add_axes([L, B, W, H]) \n",
    "\n",
    "ax.plot(R9, r9, label = r'$\\mathrm{Pi} =$'+LABELS[9])\n",
    "ax.plot(R9, r9[-1]*np.sin(R9*np.pi/2), '--', label = r'$\\mathrm{sin}\\left(\\frac{\\pi R}{2}\\right)$')\n",
    "\n",
    "ax.set_ylabel(r'$r/R_0$')\n",
    "ax.set_xlabel(r'$R/R_0$', labelpad = 1)\n",
    "ax.legend(loc='upper left', bbox_to_anchor=(0, 1.03), frameon=False, fontsize = 8, handletextpad = 0.4, handlelength = 1.8)\n",
    "\n",
    "ax = fig.add_axes([L+W+dW, B, W, H]) \n",
    "ax.plot(r9, h9, label = r'$\\mathrm{Pi} =$'+LABELS[9])\n",
    "ax.plot(r9, R9/(r9[-1]*np.sin(R9*np.pi/2)*rp9)*(1-R9**2), '--', label = r'$\\mathrm{sin}\\left(\\frac{\\pi R}{2}\\right)$')\n",
    "\n",
    "ax.set_ylabel(r'$h/H_0$')\n",
    "ax.set_xlabel(r'$r/R_0$', labelpad = 1)\n",
    "\n",
    "plt.savefig('Pizza_near_critical_point_V2.pdf', bbox_inches = 'tight')"
   ]
  },
  {
   "cell_type": "code",
   "execution_count": null,
   "id": "c5adb509-22be-47c1-9a07-604e586cc3cc",
   "metadata": {},
   "outputs": [],
   "source": []
  }
 ],
 "metadata": {
  "kernelspec": {
   "display_name": "Python 3 (ipykernel)",
   "language": "python",
   "name": "python3"
  },
  "language_info": {
   "codemirror_mode": {
    "name": "ipython",
    "version": 3
   },
   "file_extension": ".py",
   "mimetype": "text/x-python",
   "name": "python",
   "nbconvert_exporter": "python",
   "pygments_lexer": "ipython3",
   "version": "3.10.0"
  }
 },
 "nbformat": 4,
 "nbformat_minor": 5
}
